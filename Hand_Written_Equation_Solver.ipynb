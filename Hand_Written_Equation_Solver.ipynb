{
  "nbformat": 4,
  "nbformat_minor": 0,
  "metadata": {
    "colab": {
      "provenance": []
    },
    "kernelspec": {
      "name": "python3",
      "display_name": "Python 3"
    },
    "language_info": {
      "name": "python"
    }
  },
  "cells": [
    {
      "cell_type": "code",
      "source": [
        "!pip install torch torchvision opencv-python matplotlib numpy\n",
        "import torch\n",
        "from torch import nn, optim\n",
        "from torch.utils.data import DataLoader, Dataset\n",
        "import cv2\n",
        "import numpy as np\n",
        "import matplotlib.pyplot as plt\n",
        "from google.colab import drive\n",
        "drive.mount('/content/drive')"
      ],
      "metadata": {
        "id": "EOaPRNMJCYP2"
      },
      "execution_count": null,
      "outputs": []
    },
    {
      "cell_type": "code",
      "source": [
        "!pip install kaggle\n",
        "from google.colab import files\n",
        "files.upload()\n",
        "!mkdir -p ~/.kaggle\n",
        "!cp kaggle.json ~/.kaggle/\n",
        "!chmod 600 ~/.kaggle/kaggle.json\n",
        "!kaggle datasets download -d michelheusser/handwritten-digits-and-operators\n",
        "!unzip handwritten-digits-and-operators.zip -d /content/dataset"
      ],
      "metadata": {
        "id": "x7rix1XJCYz8"
      },
      "execution_count": null,
      "outputs": []
    },
    {
      "cell_type": "code",
      "source": [
        "\n",
        "data = np.load('/content/dataset/CompleteDataSet_training_tuples.npy', allow_pickle=True)\n",
        "images = [item[0] for item in data]\n",
        "labels = [item[1] for item in data]\n",
        "\n",
        "# Filter for digits (0-9) and operators (+, -)\n",
        "label_map = {'0': 0, '1': 1, '2': 2, '3': 3, '4': 4, '5': 5, '6': 6, '7': 7, '8': 8, '9': 9, '+': 10, '-': 11}\n",
        "filtered_data = [(img, label_map[label]) for img, label in zip(images, labels) if label in label_map]\n",
        "images, labels = zip(*filtered_data)\n",
        "\n",
        "\n",
        "resized_images = []\n",
        "for img in images:\n",
        "    if len(img.shape) == 3:\n",
        "        img = img.squeeze()\n",
        "    img_resized = cv2.resize(img, (28, 28), interpolation=cv2.INTER_AREA)\n",
        "    img_normalized = img_resized / 255.0\n",
        "    resized_images.append(img_normalized)\n",
        "\n",
        "images = torch.tensor(np.array(resized_images), dtype=torch.float32).unsqueeze(1)  # Shape: (N, 1, 28, 28)\n",
        "labels = torch.tensor(labels, dtype=torch.long)\n",
        "\n",
        "\n",
        "plt.figure(figsize=(10, 2))\n",
        "for i in range(5):\n",
        "    plt.subplot(1, 5, i+1)\n",
        "    plt.imshow(resized_images[i].squeeze(), cmap='gray')\n",
        "    plt.title(f\"Label: {labels[i].item()}\")\n",
        "    plt.axis('off')\n",
        "plt.show()\n",
        "\n",
        "# Create dataset\n",
        "class CustomDataset(Dataset):\n",
        "    def __init__(self, images, labels):\n",
        "        self.images = images\n",
        "        self.labels = labels\n",
        "    def __len__(self):\n",
        "        return len(self.images)\n",
        "    def __getitem__(self, idx):\n",
        "        return self.images[idx], self.labels[idx]\n",
        "\n",
        "dataset = CustomDataset(images, labels)\n",
        "train_size = int(0.8 * len(dataset))\n",
        "test_size = len(dataset) - train_size\n",
        "train_dataset, test_dataset = torch.utils.data.random_split(dataset, [train_size, test_size])\n",
        "train_loader = DataLoader(train_dataset, batch_size=64, shuffle=True)\n",
        "test_loader = DataLoader(test_dataset, batch_size=64, shuffle=False)"
      ],
      "metadata": {
        "colab": {
          "base_uri": "https://localhost:8080/",
          "height": 192
        },
        "id": "Qey1ZPk5DZYQ",
        "outputId": "ca3397d2-e943-466a-a564-bf12593f00a3"
      },
      "execution_count": 36,
      "outputs": [
        {
          "output_type": "display_data",
          "data": {
            "text/plain": [
              "<Figure size 1000x200 with 5 Axes>"
            ],
            "image/png": "[encoded data removed]"
          },
          "metadata": {}
        }
      ]
    },
    {
      "cell_type": "code",
      "source": [
        "\n",
        "class CNNModel(nn.Module):\n",
        "    def __init__(self):\n",
        "        super(CNNModel, self).__init__()\n",
        "        self.conv1 = nn.Conv2d(1, 16, kernel_size=3, stride=1, padding=1)\n",
        "        self.relu1 = nn.ReLU()\n",
        "        self.pool1 = nn.MaxPool2d(kernel_size=2, stride=2)\n",
        "        self.conv2 = nn.Conv2d(16, 32, kernel_size=3, stride=1, padding=1)\n",
        "        self.relu2 = nn.ReLU()\n",
        "        self.pool2 = nn.MaxPool2d(kernel_size=2, stride=2)\n",
        "        self.fc1 = nn.Linear(32 * 7 * 7, 128)\n",
        "        self.relu3 = nn.ReLU()\n",
        "        self.fc2 = nn.Linear(128, 12)  # 12 classes\n",
        "        self.log_softmax = nn.LogSoftmax(dim=1)\n",
        "\n",
        "    def forward(self, x):\n",
        "        x = self.pool1(self.relu1(self.conv1(x)))\n",
        "        x = self.pool2(self.relu2(self.conv2(x)))\n",
        "        x = x.view(-1, 32 * 7 * 7)\n",
        "        x = self.relu3(self.fc1(x))\n",
        "        x = self.log_softmax(self.fc2(x))\n",
        "        return x\n",
        "\n",
        "model = CNNModel()\n",
        "criterion = nn.NLLLoss()\n",
        "optimizer = optim.Adam(model.parameters(), lr=0.001)\n",
        "\n",
        "epochs = 10\n",
        "for e in range(epochs):\n",
        "    running_loss = 0\n",
        "    for images, labels in train_loader:\n",
        "        optimizer.zero_grad()\n",
        "        output = model(images)\n",
        "        loss = criterion(output, labels)\n",
        "        loss.backward()\n",
        "        optimizer.step()\n",
        "        running_loss += loss.item()\n",
        "    print(f\"Epoch {e+1} - Loss: {running_loss/len(train_loader)}\")\n",
        "\n",
        "correct = 0\n",
        "total = 0\n",
        "with torch.no_grad():\n",
        "    for images, labels in test_loader:\n",
        "        outputs = model(images)\n",
        "        _, predicted = torch.max(outputs.data, 1)\n",
        "        total += labels.size(0)\n",
        "        correct += (predicted == labels).sum().item()\n",
        "print(f\"Accuracy: {100 * correct / total}%\")"
      ],
      "metadata": {
        "colab": {
          "base_uri": "https://localhost:8080/"
        },
        "id": "OATCHaWSDbLG",
        "outputId": "8459bc92-9017-4b76-be9a-d801fb49b68e"
      },
      "execution_count": 37,
      "outputs": [
        {
          "output_type": "stream",
          "name": "stdout",
          "text": [
            "Epoch 1 - Loss: 1.7061130158368996\n",
            "Epoch 2 - Loss: 0.5284091407809254\n",
            "Epoch 3 - Loss: 0.37473832599155815\n",
            "Epoch 4 - Loss: 0.30373238221993776\n",
            "Epoch 5 - Loss: 0.2635539302807827\n",
            "Epoch 6 - Loss: 0.23461459359559977\n",
            "Epoch 7 - Loss: 0.21445843953287977\n",
            "Epoch 8 - Loss: 0.19796072683740182\n",
            "Epoch 9 - Loss: 0.18589334034687927\n",
            "Epoch 10 - Loss: 0.17314343620339764\n",
            "Accuracy: 94.50348112861855%\n"
          ]
        }
      ]
    },
    {
      "cell_type": "code",
      "source": [
        "#uploaded = files.upload()\n",
        "image_path = \"/content/val.png\""
      ],
      "metadata": {
        "id": "9TfukKCODdJM"
      },
      "execution_count": 82,
      "outputs": []
    },
    {
      "cell_type": "code",
      "source": [
        "img = cv2.imread(image_path, cv2.IMREAD_GRAYSCALE)\n",
        "_, thresh = cv2.threshold(img, 127, 255, cv2.THRESH_BINARY_INV)\n",
        "kernel = np.ones((3,3), np.uint8)\n",
        "thresh = cv2.dilate(thresh, kernel, iterations=1)\n",
        "\n",
        "contours, _ = cv2.findContours(thresh, cv2.RETR_EXTERNAL, cv2.CHAIN_APPROX_SIMPLE)\n",
        "contours = sorted(contours, key=lambda c: cv2.boundingRect(c)[0])\n",
        "\n",
        "characters = []\n",
        "for cnt in contours:\n",
        "    x, y, w, h = cv2.boundingRect(cnt)\n",
        "    if w > 10 and h > 10:\n",
        "        roi = thresh[y:y+h, x:x+w]\n",
        "        size = max(w, h)\n",
        "        pad_w = (size - w) // 2\n",
        "        pad_h = (size - h) // 2\n",
        "        roi_padded = cv2.copyMakeBorder(roi, pad_h, pad_h, pad_w, pad_w, cv2.BORDER_CONSTANT, value=0)\n",
        "        roi_resized = cv2.resize(roi_padded, (28, 28), interpolation=cv2.INTER_AREA)\n",
        "        roi_resized = roi_resized / 255.0\n",
        "        characters.append(roi_resized)\n",
        "\n",
        "plt.figure(figsize=(10, 2))\n",
        "for i, char in enumerate(characters):\n",
        "    plt.subplot(1, len(characters), i+1)\n",
        "    plt.imshow(char, cmap='gray')\n",
        "    plt.axis('off')\n",
        "plt.show()"
      ],
      "metadata": {
        "colab": {
          "base_uri": "https://localhost:8080/",
          "height": 191
        },
        "id": "naWe4MfIDh_U",
        "outputId": "b374ee14-c658-4dc3-f3ef-9788b47aaa1b"
      },
      "execution_count": 83,
      "outputs": [
        {
          "output_type": "display_data",
          "data": {
            "text/plain": [
              "<Figure size 1000x200 with 3 Axes>"
            ],
            "image/png": "[encoded data removed]"
          },
          "metadata": {}
        }
      ]
    },
    {
      "cell_type": "code",
      "source": [
        "predictions = []\n",
        "model.eval()\n",
        "with torch.no_grad():\n",
        "    for i, char in enumerate(characters):\n",
        "        char_tensor = torch.tensor(char, dtype=torch.float32).unsqueeze(0).unsqueeze(0)\n",
        "        output = model(char_tensor)\n",
        "        _, predicted = torch.max(output, 1)\n",
        "        predictions.append(predicted.item())\n",
        "\n",
        "        plt.figure(figsize=(2, 2))\n",
        "        plt.imshow(char, cmap='gray')\n",
        "        plt.title(f\"Predicted: {predicted.item()}\")\n",
        "        plt.axis('off')\n",
        "        plt.show()\n",
        "\n",
        "# Ignore '='\n",
        "if len(predictions) == 4:\n",
        "    predictions = predictions[:-1]\n",
        "print(\"Predictions:\", predictions)"
      ],
      "metadata": {
        "colab": {
          "base_uri": "https://localhost:8080/",
          "height": 623
        },
        "id": "A6_SMIzlFCSP",
        "outputId": "22512b48-35b3-4776-8d98-b04932af122c"
      },
      "execution_count": 84,
      "outputs": [
        {
          "output_type": "display_data",
          "data": {
            "text/plain": [
              "<Figure size 200x200 with 1 Axes>"
            ],
            "image/png": "[encoded data removed]"
          },
          "metadata": {}
        },
        {
          "output_type": "display_data",
          "data": {
            "text/plain": [
              "<Figure size 200x200 with 1 Axes>"
            ],
            "image/png": "[encoded data removed]"
          },
          "metadata": {}
        },
        {
          "output_type": "display_data",
          "data": {
            "text/plain": [
              "<Figure size 200x200 with 1 Axes>"
            ],
            "image/png": "[encoded data removed]"
          },
          "metadata": {}
        },
        {
          "output_type": "stream",
          "name": "stdout",
          "text": [
            "Predictions: [5, 10, 8]\n"
          ]
        }
      ]
    },
    {
      "cell_type": "code",
      "source": [
        "def solve_equation(predictions):\n",
        "    equation = ''\n",
        "    for pred in predictions:\n",
        "        if pred < 10:\n",
        "            equation += str(pred)\n",
        "        elif pred == 10:\n",
        "            equation += '+'\n",
        "        elif pred == 11:\n",
        "            equation += '-'\n",
        "    try:\n",
        "        left, op, right = equation.partition('+') if '+' in equation else equation.partition('-')\n",
        "        left, right = int(left), int(right)\n",
        "        result = left + right if op == '+' else left - right\n",
        "        return f\"{equation} = {result}\"\n",
        "    except:\n",
        "        return \"Invalid equation\"\n",
        "\n",
        "result = solve_equation(predictions)\n",
        "print(\"Result:\", result)\n",
        "\n",
        "plt.imshow(cv2.imread(image_path))\n",
        "plt.title(f\"Result: {result}\", fontsize=12)\n",
        "plt.axis('off')\n",
        "plt.show()"
      ],
      "metadata": {
        "colab": {
          "base_uri": "https://localhost:8080/",
          "height": 325
        },
        "id": "5or17N-nFFl2",
        "outputId": "c2fdc368-aa14-408d-c58d-c79da38af2c2"
      },
      "execution_count": 85,
      "outputs": [
        {
          "output_type": "stream",
          "name": "stdout",
          "text": [
            "Result: 5+8 = 13\n"
          ]
        },
        {
          "output_type": "display_data",
          "data": {
            "text/plain": [
              "<Figure size 640x480 with 1 Axes>"
            ],
            "image/png": "[encoded data removed]"
          },
          "metadata": {}
        }
      ]
    }
  ]
}